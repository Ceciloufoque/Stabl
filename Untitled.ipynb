{
 "cells": [
  {
   "cell_type": "code",
   "execution_count": 1,
   "id": "cc4b35d2-9040-45b3-8b25-362cc528acbe",
   "metadata": {},
   "outputs": [
    {
     "name": "stderr",
     "output_type": "stream",
     "text": [
      "/Users/gregoirebellan/Desktop/Surge/STABL/stabl/stabl.py:20: TqdmWarning: IProgress not found. Please update jupyter and ipywidgets. See https://ipywidgets.readthedocs.io/en/stable/user_install.html\n",
      "  from tqdm.autonotebook import tqdm\n"
     ]
    }
   ],
   "source": [
    "from stabl.stabl import Stabl\n",
    "from sklearn.linear_model import Lasso\n",
    "from sklearn.datasets import make_regression\n",
    "\n",
    "from julia.api import Julia\n",
    "jl = Julia(compiled_modules=False) "
   ]
  },
  {
   "cell_type": "code",
   "execution_count": 2,
   "id": "26b6fb69-6367-404e-b1fa-7cc6b67c792c",
   "metadata": {},
   "outputs": [],
   "source": [
    "X, y = make_regression()"
   ]
  },
  {
   "cell_type": "code",
   "execution_count": null,
   "id": "7e239367-2923-4d4d-bad2-291cc791af95",
   "metadata": {},
   "outputs": [
    {
     "name": "stdout",
     "output_type": "stream",
     "text": [
      "Stabl progress:   0%|\u001b[38;2;0;26;123m                                                                                                                                                                \u001b[0m| 0/30 [00:00<?, ?it/s]\u001b[0m"
     ]
    },
    {
     "name": "stderr",
     "output_type": "stream",
     "text": [
      "\n",
      "[12713] signal (15): Terminated: 15\n",
      "in expression starting at none:0\n",
      "visit_reachable at /Users/gregoirebellan/anaconda3/envs/test_stabl/bin/python3.10 (unknown line)\n",
      "func_traverse at /Users/gregoirebellan/anaconda3/envs/test_stabl/bin/python3.10 (unknown line)\n",
      "gc_collect_main at /Users/gregoirebellan/anaconda3/envs/test_stabl/bin/python3.10 (unknown line)\n",
      "gc_collect at /Users/gregoirebellan/anaconda3/envs/test_stabl/bin/python3.10 (unknown line)\n",
      "cfunction_vectorcall_FASTCALL_KEYWORDS at /Users/gregoirebellan/anaconda3/envs/test_stabl/bin/python3.10 (unknown line)\n",
      "_PyEval_EvalFrameDefault at /Users/gregoirebellan/anaconda3/envs/test_stabl/bin/python3.10 (unknown line)\n",
      "_PyFunction_Vectorcall at /Users/gregoirebellan/anaconda3/envs/test_stabl/bin/python3.10 (unknown line)\n",
      "call_function at /Users/gregoirebellan/anaconda3/envs/test_stabl/bin/python3.10 (unknown line)\n",
      "_PyEval_EvalFrameDefault at /Users/gregoirebellan/anaconda3/envs/test_stabl/bin/python3.10 (unknown line)\n",
      "_PyFunction_Vectorcall at /Users/gregoirebellan/anaconda3/envs/test_stabl/bin/python3.10 (unknown line)\n",
      "_PyEval_EvalFrameDefault at /Users/gregoirebellan/anaconda3/envs/test_stabl/bin/python3.10 (unknown line)\n",
      "_PyFunction_Vectorcall at /Users/gregoirebellan/anaconda3/envs/test_stabl/bin/python3.10 (unknown line)\n",
      "_PyEval_EvalFrameDefault at /Users/gregoirebellan/anaconda3/envs/test_stabl/bin/python3.10 (unknown line)\n",
      "_PyFunction_Vectorcall at /Users/gregoirebellan/anaconda3/envs/test_stabl/bin/python3.10 (unknown line)\n",
      "_PyEval_EvalFrameDefault at /Users/gregoirebellan/anaconda3/envs/test_stabl/bin/python3.10 (unknown line)\n",
      "_PyEval_Vector at /Users/gregoirebellan/anaconda3/envs/test_stabl/bin/python3.10 (unknown line)\n",
      "builtin_exec at /Users/gregoirebellan/anaconda3/envs/test_stabl/bin/python3.10 (unknown line)\n",
      "cfunction_vectorcall_FASTCALL at /Users/gregoirebellan/anaconda3/envs/test_stabl/bin/python3.10 (unknown line)\n",
      "call_function at /Users/gregoirebellan/anaconda3/envs/test_stabl/bin/python3.10 (unknown line)\n",
      "_PyEval_EvalFrameDefault at /Users/gregoirebellan/anaconda3/envs/test_stabl/bin/python3.10 (unknown line)\n",
      "_PyFunction_Vectorcall at /Users/gregoirebellan/anaconda3/envs/test_stabl/bin/python3.10 (unknown line)\n",
      "call_function at /Users/gregoirebellan/anaconda3/envs/test_stabl/bin/python3.10 (unknown line)\n",
      "_PyEval_EvalFrameDefault at /Users/gregoirebellan/anaconda3/envs/test_stabl/bin/python3.10 (unknown line)\n",
      "_PyFunction_Vectorcall at /Users/gregoirebellan/anaconda3/envs/test_stabl/bin/python3.10 (unknown line)\n",
      "pymain_run_module at /Users/gregoirebellan/anaconda3/envs/test_stabl/bin/python3.10 (unknown line)\n",
      "pymain_run_python at /Users/gregoirebellan/anaconda3/envs/test_stabl/bin/python3.10 (unknown line)\n",
      "Py_RunMain at /Users/gregoirebellan/anaconda3/envs/test_stabl/bin/python3.10 (unknown line)\n",
      "main at /Users/gregoirebellan/anaconda3/envs/test_stabl/bin/python3.10 (unknown line)\n",
      "unknown function (ip: 0x0)\n",
      "Allocations: 68557558 (Pool: 68504406; Big: 53152); GC: 94\n",
      "\n",
      "[12713] signal (11.2): Segmentation fault: 11\n",
      "in expression starting at none:0\n",
      "func_dealloc at /Users/gregoirebellan/anaconda3/envs/test_stabl/bin/python3.10 (unknown line)\n",
      "Allocations: 68557558 (Pool: 68504406; Big: 53152); GC: 94\n",
      "\n",
      "[12712] signal (15): Terminated: 15\n",
      "in expression starting at none:0\n",
      "__select at /usr/lib/system/libsystem_kernel.dylib (unknown line)\n",
      "unknown function (ip: 0x0)\n",
      "Allocations: 68557317 (Pool: 68504122; Big: 53195); GC: 95\n",
      "Fatal Python error: PyThreadState_Get: the function must be called with the GIL held, but the GIL is released (the current Python thread state is NULL)\n",
      "Python runtime state: initialized\n",
      "\n",
      "Current thread 0x00000001f71e9e00 (most recent call first):\n",
      "  File \"/Users/gregoirebellan/anaconda3/envs/test_stabl/lib/python3.10/multiprocessing/queues.py\", line 108 in get\n",
      "  File \"/Users/gregoirebellan/anaconda3/envs/test_stabl/lib/python3.10/site-packages/joblib/externals/loky/process_executor.py\", line 407 in _process_worker\n",
      "  File \"/Users/gregoirebellan/anaconda3/envs/test_stabl/lib/python3.10/multiprocessing/process.py\", line 108 in run\n",
      "  File \"/Users/gregoirebellan/anaconda3/envs/test_stabl/lib/python3.10/multiprocessing/process.py\", line 314 in _bootstrap\n",
      "  File \"/Users/gregoirebellan/anaconda3/envs/test_stabl/lib/python3.10/site-packages/joblib/externals/loky/backend/popen_loky_posix.py\", line 203 in <module>\n",
      "  File \"/Users/gregoirebellan/anaconda3/envs/test_stabl/lib/python3.10/runpy.py\", line 86 in _run_code\n",
      "  File \"/Users/gregoirebellan/anaconda3/envs/test_stabl/lib/python3.10/runpy.py\", line 196 in _run_module_as_main\n",
      "\n",
      "Extension modules: numpy.core._multiarray_umath, numpy.core._multiarray_tests, numpy.linalg._umath_linalg, numpy.fft._pocketfft_internal, numpy.random._common, numpy.random.bit_generator, numpy.random._bounded_integers, numpy.random._mt19937, numpy.random.mtrand, numpy.random._philox, numpy.random._pcg64, numpy.random._sfc64, numpy.random._generator, psutil._psutil_osx, psutil._psutil_posix, scipy._lib._ccallback_c, matplotlib._c_internal_utils, PIL._imaging, matplotlib._path, kiwisolver._cext, matplotlib._image, pandas._libs.tslibs.dtypes, pandas._libs.tslibs.base, pandas._libs.tslibs.np_datetime, pandas._libs.tslibs.nattype, pandas._libs.tslibs.timezones, pandas._libs.tslibs.ccalendar, pandas._libs.tslibs.tzconversion, pandas._libs.tslibs.strptime, pandas._libs.tslibs.fields, pandas._libs.tslibs.timedeltas, pandas._libs.tslibs.timestamps, pandas._libs.properties, pandas._libs.tslibs.offsets, pandas._libs.tslibs.parsing, pandas._libs.tslibs.conversion, pandas._libs.tslibs.period, pandas._libs.tslibs.vectorized, pandas._libs.ops_dispatch, pandas._libs.missing, pandas._libs.hashtable, pandas._libs.algos, pandas._libs.interval, pandas._libs.tslib, pandas._libs.lib, pandas._libs.hashing, pandas._libs.ops, pandas._libs.arrays, pandas._libs.index, pandas._libs.join, pandas._libs.sparse, pandas._libs.reduction, pandas._libs.indexing, pandas._libs.internals, pandas._libs.writers, pandas._libs.window.aggregations, pandas._libs.window.indexers, pandas._libs.reshape, pandas._libs.groupby, pandas._libs.testing, pandas._libs.parsers, pandas._libs.json, numpy.linalg.lapack_lite, scipy.sparse._sparsetools, _csparsetools, scipy.sparse._csparsetools, scipy.sparse.linalg._isolve._iterative, scipy.linalg._fblas, scipy.linalg._flapack, scipy.linalg._cythonized_array_utils, scipy.linalg._flinalg, scipy.linalg._solve_toeplitz, scipy.linalg._matfuncs_sqrtm_triu, scipy.linalg.cython_lapack, scipy.linalg.cython_blas, scipy.linalg._matfuncs_expm, scipy.linalg._decomp_update, scipy.sparse.linalg._dsolve._superlu, scipy.sparse.linalg._eigen.arpack._arpack, scipy.sparse.csgraph._tools, scipy.sparse.csgraph._shortest_path, scipy.sparse.csgraph._traversal, scipy.sparse.csgraph._min_spanning_tree, scipy.sparse.csgraph._flow, scipy.sparse.csgraph._matching, scipy.sparse.csgraph._reordering, scipy.spatial._ckdtree, scipy._lib.messagestream, scipy.spatial._qhull, scipy.spatial._voronoi, scipy.spatial._distance_wrap, scipy.spatial._hausdorff, scipy.special._ufuncs_cxx, scipy.special._ufuncs, scipy.special._specfun, scipy.special._comb, scipy.special._ellip_harm_2, scipy.spatial.transform._rotation, scipy.ndimage._nd_image, _ni_label, scipy.ndimage._ni_label, scipy.optimize._minpack2, scipy.optimize._group_columns, scipy.optimize._trlib._trlib, scipy.optimize._lbfgsb, _moduleTNC, scipy.optimize._moduleTNC, scipy.optimize._cobyla, scipy.optimize._slsqp, scipy.optimize._minpack, scipy.optimize._lsq.givens_elimination, scipy.optimize._zeros, scipy.optimize.__nnls, scipy.optimize._highs.cython.src._highs_wrapper, scipy.optimize._highs._highs_wrapper, scipy.optimize._highs.cython.src._highs_constants, scipy.optimize._highs._highs_constants, scipy.linalg._interpolative, scipy.optimize._bglu_dense, scipy.optimize._lsap, scipy.optimize._direct, scipy.integrate._odepack, scipy.integrate._quadpack, scipy.integrate._vode, scipy.integrate._dop, scipy.integrate._lsoda, scipy.special.cython_special, scipy.stats._stats, scipy.stats.beta_ufunc, scipy.stats._boost.beta_ufunc, scipy.stats.binom_ufunc, scipy.stats._boost.binom_ufunc, scipy.stats.nbinom_ufunc, scipy.stats._boost.nbinom_ufunc, scipy.stats.hypergeom_ufunc, scipy.stats._boost.hypergeom_ufunc, scipy.stats.ncf_ufunc, scipy.stats._boost.ncf_ufunc, scipy.stats.ncx2_ufunc, scipy.stats._boost.ncx2_ufunc, scipy.stats.nct_ufunc, scipy.stats._boost.nct_ufunc, scipy.stats.skewnorm_ufunc, scipy.stats._boost.skewnorm_ufunc, scipy.stats.invgauss_ufunc, scipy.stats._boost.invgauss_ufunc, scipy.interpolate._fitpack, scipy.interpolate.dfitpack, scipy.interpolate._bspl, scipy.interpolate._ppoly, scipy.interpolate.interpnd, scipy.interpolate._rbfinterp_pythran, scipy.interpolate._rgi_cython, scipy.stats._biasedurn, scipy.stats._levy_stable.levyst, scipy.stats._stats_pythran, scipy._lib._uarray._uarray, scipy.stats._statlib, scipy.stats._mvn, scipy.stats._sobol, scipy.stats._qmc_cy, scipy.stats._rcont.rcont, scipy.cluster._vq, scipy.cluster._hierarchy, scipy.cluster._optimal_leaf_ordering, sklearn.__check_build._check_build, sklearn.utils.murmurhash, sklearn.utils._openmp_helpers, sklearn.utils._logistic_sigmoid, sklearn.utils.sparsefuncs_fast, sklearn.preprocessing._csr_polynomial_expansion, sklearn.utils._typedefs, sklearn.utils._readonly_array_wrapper, sklearn.metrics._dist_metrics, sklearn.metrics.cluster._expected_mutual_info_fast, sklearn.utils._cython_blas, sklearn.utils._heap, sklearn.utils._sorting, sklearn.utils._vector_sentinel, sklearn.metrics._pairwise_distances_reduction, sklearn.metrics._pairwise_fast, sklearn.utils._random, sklearn.utils._seq_dataset, sklearn.utils.arrayfuncs, sklearn.linear_model._cd_fast, sklearn._loss._loss, sklearn.utils._weight_vector, sklearn.linear_model._sgd_fast, sklearn.linear_model._sag_fast, sklearn.svm._libsvm, sklearn.svm._liblinear, sklearn.svm._libsvm_sparse, _cvxcore, _ecos, _scs_direct, osqp._osqp, sklearn.neighbors._partition_nodes, sklearn.neighbors._ball_tree, sklearn.neighbors._kd_tree, sklearn.decomposition._cdnmf_fast, sklearn.decomposition._online_lda_fast, sklearn.tree._utils, sklearn.neighbors._quad_tree, sklearn.tree._tree, sklearn.tree._splitter, sklearn.tree._criterion, sklearn.ensemble._gradient_boosting, sklearn.ensemble._hist_gradient_boosting.common, sklearn.ensemble._hist_gradient_boosting._gradient_boosting, sklearn.ensemble._hist_gradient_boosting._binning, sklearn.ensemble._hist_gradient_boosting._bitset, sklearn.ensemble._hist_gradient_boosting.splitting, sklearn.ensemble._hist_gradient_boosting.histogram, sklearn.ensemble._hist_gradient_boosting._predictor, sklearn.ensemble._hist_gradient_boosting.utils (total: 215)\n",
      "\n",
      "[12712] signal (6): Abort trap: 6\n",
      "in expression starting at none:0\n",
      "__pthread_kill at /usr/lib/system/libsystem_kernel.dylib (unknown line)\n",
      "Allocations: 68557317 (Pool: 68504122; Big: 53195); GC: 95\n",
      "\n",
      "[12711] signal (15): Terminated: 15\n",
      "in expression starting at /Users/gregoirebellan/.julia/packages/Bigsimr/bxVzb/src/precompile.jl:20\n",
      "tiny_free_no_lock at /usr/lib/system/libsystem_malloc.dylib (unknown line)\n",
      "unknown function (ip: 0x0)\n",
      "Allocations: 68560996 (Pool: 68507827; Big: 53169); GC: 94\n"
     ]
    },
    {
     "name": "stdout",
     "output_type": "stream",
     "text": [
      "Stabl progress:   0%|\u001b[38;2;0;26;123m                                                                                                                                                                \u001b[0m| 0/30 [01:20<?, ?it/s]\u001b[0m"
     ]
    }
   ],
   "source": [
    "l = Lasso()\n",
    "s = Stabl(l, n_bootstraps=10, verbose=1)\n",
    "s.fit(X, y)"
   ]
  },
  {
   "cell_type": "code",
   "execution_count": null,
   "id": "817fbf33-f2c4-436b-b2da-74eb6c6cb976",
   "metadata": {},
   "outputs": [],
   "source": []
  }
 ],
 "metadata": {
  "kernelspec": {
   "display_name": "Python 3 (ipykernel)",
   "language": "python",
   "name": "python3"
  },
  "language_info": {
   "codemirror_mode": {
    "name": "ipython",
    "version": 3
   },
   "file_extension": ".py",
   "mimetype": "text/x-python",
   "name": "python",
   "nbconvert_exporter": "python",
   "pygments_lexer": "ipython3",
   "version": "3.10.12"
  }
 },
 "nbformat": 4,
 "nbformat_minor": 5
}
