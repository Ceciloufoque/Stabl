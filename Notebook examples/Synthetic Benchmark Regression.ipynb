{
 "cells": [
  {
   "cell_type": "markdown",
   "id": "a1c81832",
   "metadata": {},
   "source": [
    "# Libaries"
   ]
  },
  {
   "cell_type": "code",
   "execution_count": 5,
   "id": "afb5926b",
   "metadata": {},
   "outputs": [],
   "source": [
    "from sklearn.linear_model import Lasso, ElasticNet\n",
    "from sklearn.base import clone\n",
    "\n",
    "from stabl.synthetic_utils import synthetic_benchmark_regression"
   ]
  },
  {
   "cell_type": "markdown",
   "id": "5dd26f40",
   "metadata": {},
   "source": [
    "# Base models"
   ]
  },
  {
   "cell_type": "code",
   "execution_count": 6,
   "id": "2d97dab2",
   "metadata": {},
   "outputs": [],
   "source": [
    "lasso = Lasso(max_iter=int(1e6))\n",
    "en = ElasticNet(max_iter=int(1e6), l1_ratio=.5)"
   ]
  },
  {
   "cell_type": "markdown",
   "id": "e061b1ff",
   "metadata": {},
   "source": [
    "**Here all the hyperparameters are lists. However the user can set unique values for the parameters**"
   ]
  },
  {
   "cell_type": "code",
   "execution_count": 7,
   "id": "5b0ae084",
   "metadata": {},
   "outputs": [],
   "source": [
    "base_estimator = clone(lasso)\n",
    "lambda_name = 'alpha'\n",
    "n_informative_list = [10, 25, 50]\n",
    "n_features_list = [1000] \n",
    "#n_features_list = [100, 500, 1000, 2500, 5000, 7500, 10000]\n",
    "n_samples_list = [30, 40, 50, 75, 100, 150, 250, 350, 500, 750, 1000]\n",
    "artificial_type = \"random_permutation\"\n",
    "n_experiments = 50"
   ]
  },
  {
   "cell_type": "code",
   "execution_count": 8,
   "id": "f1cde00b-6970-47cd-a39b-d20500b87ca0",
   "metadata": {
    "tags": []
   },
   "outputs": [],
   "source": [
    "result_folder_title = \"test synthetic\""
   ]
  },
  {
   "cell_type": "code",
   "execution_count": 9,
   "id": "c28e0989",
   "metadata": {},
   "outputs": [
    {
     "name": "stdout",
     "output_type": "stream",
     "text": [
      "=======================================================================\n",
      "Computation for 1000 features with 10 informative ones\n",
      "=======================================================================\n",
      "Starting the training for different subtraining sizes\n",
      "-----------------------------------------------------------------------\n",
      "n_samples = 30\n",
      "***********************************************************************\n",
      "Repetition of this experiment 1/50\n"
     ]
    },
    {
     "name": "stderr",
     "output_type": "stream",
     "text": [
      "                                                                                  03<00:00,  2.57it/s]\u001b[0m\r"
     ]
    },
    {
     "ename": "AttributeError",
     "evalue": "'Stabl' object has no attribute 'stabl_scores_'",
     "output_type": "error",
     "traceback": [
      "\u001b[0;31m---------------------------------------------------------------------------\u001b[0m",
      "\u001b[0;31mAttributeError\u001b[0m                            Traceback (most recent call last)",
      "Input \u001b[0;32mIn [9]\u001b[0m, in \u001b[0;36m<cell line: 1>\u001b[0;34m()\u001b[0m\n\u001b[0;32m----> 1\u001b[0m \u001b[43msynthetic_benchmark_regression\u001b[49m\u001b[43m(\u001b[49m\n\u001b[1;32m      2\u001b[0m \u001b[43m    \u001b[49m\u001b[43mbase_estimator\u001b[49m\u001b[38;5;241;43m=\u001b[39;49m\u001b[43mbase_estimator\u001b[49m\u001b[43m,\u001b[49m\n\u001b[1;32m      3\u001b[0m \u001b[43m    \u001b[49m\u001b[43mlambda_name\u001b[49m\u001b[38;5;241;43m=\u001b[39;49m\u001b[43mlambda_name\u001b[49m\u001b[43m,\u001b[49m\n\u001b[1;32m      4\u001b[0m \u001b[43m    \u001b[49m\u001b[43mn_features_list\u001b[49m\u001b[38;5;241;43m=\u001b[39;49m\u001b[43mn_features_list\u001b[49m\u001b[43m,\u001b[49m\n\u001b[1;32m      5\u001b[0m \u001b[43m    \u001b[49m\u001b[43mn_informative_list\u001b[49m\u001b[38;5;241;43m=\u001b[39;49m\u001b[43mn_informative_list\u001b[49m\u001b[43m,\u001b[49m\n\u001b[1;32m      6\u001b[0m \u001b[43m    \u001b[49m\u001b[43mn_samples_list\u001b[49m\u001b[38;5;241;43m=\u001b[39;49m\u001b[43mn_samples_list\u001b[49m\u001b[43m,\u001b[49m\n\u001b[1;32m      7\u001b[0m \u001b[43m    \u001b[49m\u001b[43mn_experiments\u001b[49m\u001b[38;5;241;43m=\u001b[39;49m\u001b[43mn_experiments\u001b[49m\u001b[43m,\u001b[49m\n\u001b[1;32m      8\u001b[0m \u001b[43m    \u001b[49m\u001b[43martificial_type\u001b[49m\u001b[38;5;241;43m=\u001b[39;49m\u001b[43martificial_type\u001b[49m\u001b[43m,\u001b[49m\n\u001b[1;32m      9\u001b[0m \u001b[43m    \u001b[49m\u001b[43mresult_folder_title\u001b[49m\u001b[38;5;241;43m=\u001b[39;49m\u001b[43mresult_folder_title\u001b[49m\n\u001b[1;32m     10\u001b[0m \u001b[43m)\u001b[49m\n",
      "File \u001b[0;32m~/opt/anaconda3/envs/surge/lib/python3.10/site-packages/stabl/synthetic_utils.py:546\u001b[0m, in \u001b[0;36msynthetic_benchmark_regression\u001b[0;34m(base_estimator, lambda_name, n_features_list, n_informative_list, n_samples_list, n_experiments, artificial_type, result_folder_title)\u001b[0m\n\u001b[1;32m    532\u001b[0m \u001b[38;5;66;03m# Stability Selection without noise\u001b[39;00m\n\u001b[1;32m    533\u001b[0m stab_sel \u001b[38;5;241m=\u001b[39m Stabl(base_estimator\u001b[38;5;241m=\u001b[39mbase_estimator,\n\u001b[1;32m    534\u001b[0m                  lambda_name\u001b[38;5;241m=\u001b[39mlambda_name,\n\u001b[1;32m    535\u001b[0m                  n_bootstraps\u001b[38;5;241m=\u001b[39m\u001b[38;5;241m100\u001b[39m,\n\u001b[0;32m   (...)\u001b[0m\n\u001b[1;32m    543\u001b[0m                  random_state\u001b[38;5;241m=\u001b[39m\u001b[38;5;241m42\u001b[39m\n\u001b[1;32m    544\u001b[0m                  )\u001b[38;5;241m.\u001b[39mfit(X_subtrain, y_subtrain)\n\u001b[0;32m--> 546\u001b[0m true_FDRs_ss\u001b[38;5;241m.\u001b[39mappend(\u001b[43mcompute_true_FDR\u001b[49m\u001b[43m(\u001b[49m\u001b[43mstab_sel\u001b[49m\u001b[43m,\u001b[49m\u001b[43m \u001b[49m\u001b[43mgroud_truth_features\u001b[49m\u001b[43m)\u001b[49m)\n\u001b[1;32m    548\u001b[0m ss_features_03 \u001b[38;5;241m=\u001b[39m \u001b[38;5;28mlist\u001b[39m(stab_sel\u001b[38;5;241m.\u001b[39mget_support(indices\u001b[38;5;241m=\u001b[39m\u001b[38;5;28;01mTrue\u001b[39;00m, new_hard_threshold\u001b[38;5;241m=\u001b[39m\u001b[38;5;241m.3\u001b[39m))\n\u001b[1;32m    549\u001b[0m jaccard_ground_truth_ss_03\u001b[38;5;241m.\u001b[39mappend(jaccard_similarity(ss_features_03, groud_truth_features))\n",
      "File \u001b[0;32m~/opt/anaconda3/envs/surge/lib/python3.10/site-packages/stabl/synthetic_utils.py:68\u001b[0m, in \u001b[0;36mcompute_true_FDR\u001b[0;34m(stability_selection, true_features_indices)\u001b[0m\n\u001b[1;32m     67\u001b[0m \u001b[38;5;28;01mdef\u001b[39;00m \u001b[38;5;21mcompute_true_FDR\u001b[39m(stability_selection, true_features_indices):\n\u001b[0;32m---> 68\u001b[0m     max_scores \u001b[38;5;241m=\u001b[39m \u001b[43mstability_selection\u001b[49m\u001b[38;5;241;43m.\u001b[39;49m\u001b[43mstabl_scores_\u001b[49m\u001b[38;5;241m.\u001b[39mmax(axis\u001b[38;5;241m=\u001b[39m\u001b[38;5;241m1\u001b[39m)\n\u001b[1;32m     69\u001b[0m     thresh_grid \u001b[38;5;241m=\u001b[39m np\u001b[38;5;241m.\u001b[39marange(\u001b[38;5;241m0\u001b[39m, \u001b[38;5;241m1\u001b[39m, \u001b[38;5;241m0.01\u001b[39m)\n\u001b[1;32m     70\u001b[0m     FDRs \u001b[38;5;241m=\u001b[39m []\n",
      "\u001b[0;31mAttributeError\u001b[0m: 'Stabl' object has no attribute 'stabl_scores_'"
     ]
    }
   ],
   "source": [
    "synthetic_benchmark_regression(\n",
    "    base_estimator=base_estimator,\n",
    "    lambda_name=lambda_name,\n",
    "    n_features_list=n_features_list,\n",
    "    n_informative_list=n_informative_list,\n",
    "    n_samples_list=n_samples_list,\n",
    "    n_experiments=n_experiments,\n",
    "    artificial_type=artificial_type,\n",
    "    result_folder_title=result_folder_title\n",
    ")"
   ]
  },
  {
   "cell_type": "markdown",
   "id": "0ed05698-b129-4755-a51b-22bbc793821c",
   "metadata": {
    "tags": []
   },
   "source": [
    "# Saving results"
   ]
  },
  {
   "cell_type": "code",
   "execution_count": 16,
   "id": "fa28c193",
   "metadata": {},
   "outputs": [],
   "source": [
    "from shutil import make_archive\n",
    "import zipfile\n",
    "import os"
   ]
  },
  {
   "cell_type": "code",
   "execution_count": 17,
   "id": "aea5aa04",
   "metadata": {
    "tags": []
   },
   "outputs": [
    {
     "data": {
      "text/plain": [
       "'/root/MOB paper/Results_14_02_23 Synthetic Benchmarks (DecoyVsEN).zip'"
      ]
     },
     "execution_count": 17,
     "metadata": {},
     "output_type": "execute_result"
    }
   ],
   "source": [
    "make_archive('Results_14_02_23 Synthetic Benchmarks (DecoyVsEN)', 'zip', './Results_14_02_23 Synthetic Benchmarks (DecoyVsEN)', verbose =10)"
   ]
  },
  {
   "cell_type": "code",
   "execution_count": 5,
   "id": "3f74dca1-183b-46a9-86b4-ed4bf608dd06",
   "metadata": {},
   "outputs": [],
   "source": [
    "import boto3\n",
    "s3 = boto3.client(\"s3\")\n",
    "s3.upload_file(\"./Results_13_02_23 Synthetic Benchmarks (EN-decoy).zip\", \"surge-bucket-test\", \"Results_13_02_23 Synthetic Benchmarks (EN-decoy).zip\",)"
   ]
  },
  {
   "cell_type": "code",
   "execution_count": null,
   "id": "bbd46ab2-ed02-49e7-8596-20000b227bea",
   "metadata": {},
   "outputs": [],
   "source": []
  }
 ],
 "metadata": {
  "instance_type": "ml.t3.medium",
  "kernelspec": {
   "display_name": "Python 3 (ipykernel)",
   "language": "python",
   "name": "python3"
  },
  "language_info": {
   "codemirror_mode": {
    "name": "ipython",
    "version": 3
   },
   "file_extension": ".py",
   "mimetype": "text/x-python",
   "name": "python",
   "nbconvert_exporter": "python",
   "pygments_lexer": "ipython3",
   "version": "3.10.4"
  },
  "lcc_arn": "arn:aws:sagemaker:us-east-1:011021124722:studio-lifecycle-config/pip-install-kernel",
  "toc": {
   "base_numbering": 1,
   "nav_menu": {},
   "number_sections": true,
   "sideBar": true,
   "skip_h1_title": false,
   "title_cell": "Table of Contents",
   "title_sidebar": "Contents",
   "toc_cell": false,
   "toc_position": {
    "height": "calc(100% - 180px)",
    "left": "10px",
    "top": "150px",
    "width": "271.390625px"
   },
   "toc_section_display": true,
   "toc_window_display": true
  }
 },
 "nbformat": 4,
 "nbformat_minor": 5
}
