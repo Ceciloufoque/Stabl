{
 "cells": [
  {
   "cell_type": "markdown",
   "id": "a1c81832",
   "metadata": {},
   "source": [
    "# Libaries"
   ]
  },
  {
   "cell_type": "code",
   "execution_count": 1,
   "id": "c45fe649",
   "metadata": {},
   "outputs": [
    {
     "ename": "ModuleNotFoundError",
     "evalue": "No module named 'stabl.synthetic_utils'",
     "output_type": "error",
     "traceback": [
      "\u001b[0;31m---------------------------------------------------------------------------\u001b[0m",
      "\u001b[0;31mModuleNotFoundError\u001b[0m                       Traceback (most recent call last)",
      "Input \u001b[0;32mIn [1]\u001b[0m, in \u001b[0;36m<cell line: 1>\u001b[0;34m()\u001b[0m\n\u001b[0;32m----> 1\u001b[0m \u001b[38;5;28;01mfrom\u001b[39;00m \u001b[38;5;21;01mstabl\u001b[39;00m\u001b[38;5;21;01m.\u001b[39;00m\u001b[38;5;21;01msynthetic_utils\u001b[39;00m \u001b[38;5;28;01mimport\u001b[39;00m synthetic_benchmark_regression\n",
      "\u001b[0;31mModuleNotFoundError\u001b[0m: No module named 'stabl.synthetic_utils'"
     ]
    }
   ],
   "source": [
    "from stabl.synthetic_utils import synthetic_benchmark_regression"
   ]
  },
  {
   "cell_type": "markdown",
   "id": "e061b1ff",
   "metadata": {},
   "source": [
    "**Here all the hyperparameters are lists. However the user can set unique values for the parameters**"
   ]
  },
  {
   "cell_type": "code",
   "execution_count": 4,
   "id": "5b0ae084",
   "metadata": {},
   "outputs": [],
   "source": [
    "BASE_ESTIMATOR_ = clone(lasso)\n",
    "LAMBDA_NAME_ = 'alpha'\n",
    "INFO_FEATURES_ = [10, 25, 50]\n",
    "NB_FEATURES_ = [1000] #[100, 500, 1000, 2500, 5000, 7500, 10000]\n",
    "SAMPLE_SIZE_ = [30, 40, 50, 75, 100, 150, 250, 350, 500, 750, 1000]\n",
    "ARTIFICIAL_TYPE_ = \"random_permutation\"\n",
    "N_EXPERIMENTS_ = 50"
   ]
  },
  {
   "cell_type": "code",
   "execution_count": 14,
   "id": "f1cde00b-6970-47cd-a39b-d20500b87ca0",
   "metadata": {
    "tags": []
   },
   "outputs": [],
   "source": [
    "result_folder_title = \"Results_14_02_23 Synthetic Benchmarks (DecoyVsEN)\""
   ]
  },
  {
   "cell_type": "code",
   "execution_count": null,
   "id": "5aa4628c",
   "metadata": {},
   "outputs": [],
   "source": []
  },
  {
   "cell_type": "markdown",
   "id": "0ed05698-b129-4755-a51b-22bbc793821c",
   "metadata": {
    "tags": []
   },
   "source": [
    "# Saving results"
   ]
  },
  {
   "cell_type": "code",
   "execution_count": 16,
   "id": "fa28c193",
   "metadata": {},
   "outputs": [],
   "source": [
    "from shutil import make_archive\n",
    "import zipfile\n",
    "import os"
   ]
  },
  {
   "cell_type": "code",
   "execution_count": 17,
   "id": "aea5aa04",
   "metadata": {
    "tags": []
   },
   "outputs": [
    {
     "data": {
      "text/plain": [
       "'/root/MOB paper/Results_14_02_23 Synthetic Benchmarks (DecoyVsEN).zip'"
      ]
     },
     "execution_count": 17,
     "metadata": {},
     "output_type": "execute_result"
    }
   ],
   "source": [
    "make_archive('Results_14_02_23 Synthetic Benchmarks (DecoyVsEN)', 'zip', './Results_14_02_23 Synthetic Benchmarks (DecoyVsEN)', verbose =10)"
   ]
  },
  {
   "cell_type": "code",
   "execution_count": 5,
   "id": "3f74dca1-183b-46a9-86b4-ed4bf608dd06",
   "metadata": {},
   "outputs": [],
   "source": [
    "import boto3\n",
    "s3 = boto3.client(\"s3\")\n",
    "s3.upload_file(\"./Results_13_02_23 Synthetic Benchmarks (EN-decoy).zip\", \"surge-bucket-test\", \"Results_13_02_23 Synthetic Benchmarks (EN-decoy).zip\",)"
   ]
  },
  {
   "cell_type": "code",
   "execution_count": null,
   "id": "bbd46ab2-ed02-49e7-8596-20000b227bea",
   "metadata": {},
   "outputs": [],
   "source": []
  }
 ],
 "metadata": {
  "instance_type": "ml.t3.medium",
  "kernelspec": {
   "display_name": "Python 3 (ipykernel)",
   "language": "python",
   "name": "python3"
  },
  "language_info": {
   "codemirror_mode": {
    "name": "ipython",
    "version": 3
   },
   "file_extension": ".py",
   "mimetype": "text/x-python",
   "name": "python",
   "nbconvert_exporter": "python",
   "pygments_lexer": "ipython3",
   "version": "3.10.4"
  },
  "lcc_arn": "arn:aws:sagemaker:us-east-1:011021124722:studio-lifecycle-config/pip-install-kernel",
  "toc": {
   "base_numbering": 1,
   "nav_menu": {},
   "number_sections": true,
   "sideBar": true,
   "skip_h1_title": false,
   "title_cell": "Table of Contents",
   "title_sidebar": "Contents",
   "toc_cell": false,
   "toc_position": {
    "height": "calc(100% - 180px)",
    "left": "10px",
    "top": "150px",
    "width": "271.390625px"
   },
   "toc_section_display": true,
   "toc_window_display": true
  }
 },
 "nbformat": 4,
 "nbformat_minor": 5
}
